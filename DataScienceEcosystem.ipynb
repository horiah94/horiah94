{
 "cells": [
  {
   "cell_type": "markdown",
   "id": "2b893d20-534e-4cd6-9a34-d1f76ef40e52",
   "metadata": {},
   "source": [
    "`\"print ('hello IBM')"
   ]
  },
  {
   "cell_type": "markdown",
   "id": "b688d552-170c-4536-8d82-3e3844a970f8",
   "metadata": {},
   "source": [
    "# Data Science Tools and Ecosystem"
   ]
  },
  {
   "cell_type": "markdown",
   "id": "ad9b5ab7-46ae-4900-880f-211f36f4ce9a",
   "metadata": {},
   "source": [
    "In this notebook, Data Science Tools and Ecosystem are summarized."
   ]
  },
  {
   "cell_type": "markdown",
   "id": "f1a2b406-a789-4511-ab8c-c7b284fe01eb",
   "metadata": {},
   "source": [
    "## Some of the popular languages that Data Scientists use are:"
   ]
  },
  {
   "cell_type": "markdown",
   "id": "a6d82470-e770-457a-bf5b-1ebfabc9e7fe",
   "metadata": {},
   "source": [
    "1. python\n",
    "2. Java\n",
    "3. R "
   ]
  },
  {
   "cell_type": "markdown",
   "id": "320bd59d-ed33-45b1-bb2b-773d4c487606",
   "metadata": {},
   "source": [
    "## Some of the popular libraries that Data Scientists use are:"
   ]
  },
  {
   "cell_type": "markdown",
   "id": "48857074-240d-4e51-9552-6c0b65479572",
   "metadata": {},
   "source": [
    "1. pandas\n",
    "2. pycharm\n",
    "3. apatchi "
   ]
  },
  {
   "cell_type": "raw",
   "id": "0a542ea1-d875-41a4-a66f-8726ea0f0bb2",
   "metadata": {},
   "source": [
    "table, 1, 2, 3 \n",
    "1, 2, 3"
   ]
  },
  {
   "cell_type": "markdown",
   "id": "02b63404-28dc-4c38-bcc3-9cb09244e0e7",
   "metadata": {},
   "source": [
    "## Below are a few examples of evaluating arithmetic expressions in Python"
   ]
  },
  {
   "cell_type": "code",
   "execution_count": 13,
   "id": "5cc34fef-99ca-408d-9026-620a46674529",
   "metadata": {},
   "outputs": [
    {
     "name": "stdout",
     "output_type": "stream",
     "text": [
      "5 + 3 = 8\n"
     ]
    }
   ],
   "source": [
    "result = 5 + 3\n",
    "print(\"5 + 3 =\", result)"
   ]
  },
  {
   "cell_type": "markdown",
   "id": "ba1caf6f-0f31-4d1b-a8eb-581a4b815a16",
   "metadata": {},
   "source": [
    "## This a simple arithmetic expression to mutiply then add integers"
   ]
  },
  {
   "cell_type": "code",
   "execution_count": 16,
   "id": "d1a55188-c152-467e-9894-398b040cd305",
   "metadata": {},
   "outputs": [],
   "source": [
    "result = (2 * 3) + 5 "
   ]
  },
  {
   "cell_type": "code",
   "execution_count": 18,
   "id": "01a37c23-3b00-4074-b60e-86bdf1ef3a1c",
   "metadata": {},
   "outputs": [
    {
     "name": "stdout",
     "output_type": "stream",
     "text": [
      "11\n"
     ]
    }
   ],
   "source": [
    "print (result)"
   ]
  },
  {
   "cell_type": "markdown",
   "id": "6e89d161-0f88-4f55-9b94-47864075ed57",
   "metadata": {},
   "source": [
    "## This will convert 200 minutes to hours by diving by 60"
   ]
  },
  {
   "cell_type": "code",
   "execution_count": 25,
   "id": "15eee15f-b1a7-42b7-a572-96475890505f",
   "metadata": {},
   "outputs": [
    {
     "name": "stdout",
     "output_type": "stream",
     "text": [
      "150 minutes is equal to 2.50 hours\n"
     ]
    }
   ],
   "source": [
    "def minutes_to_hours(minutes):\n",
    "    return minutes / 60  # Convert minutes to hours\n",
    "\n",
    "# Example usage\n",
    "minutes = 150  # You can change this value\n",
    "hours = minutes_to_hours(minutes)\n",
    "print(f\"{minutes} minutes is equal to {hours:.2f} hours\")"
   ]
  },
  {
   "cell_type": "markdown",
   "id": "99223354-5e01-43a0-8a09-15245bc8ca95",
   "metadata": {},
   "source": [
    "**Objectives:**\n",
    "- List popular languages for Data Science\n",
    "- Explore commonly used libraries for Data Science\n",
    "- Understand the basics of Jupyter Notebook\n",
    "- Learn how to perform basic data operations in Python\n",
    "- Execute simple machine learning tasks\n"
   ]
  },
  {
   "cell_type": "markdown",
   "id": "eae73e0f-46a8-4dd1-8488-7be982d28db3",
   "metadata": {},
   "source": [
    "## Author\n",
    "Mohammad Huria"
   ]
  },
  {
   "cell_type": "code",
   "execution_count": null,
   "id": "491f9c82-1285-4c9c-9415-24455d790633",
   "metadata": {},
   "outputs": [],
   "source": []
  }
 ],
 "metadata": {
  "kernelspec": {
   "display_name": "anaconda-ai-2024.04-py310",
   "language": "python",
   "name": "conda-env-anaconda-ai-2024.04-py310-py"
  },
  "language_info": {
   "codemirror_mode": {
    "name": "ipython",
    "version": 3
   },
   "file_extension": ".py",
   "mimetype": "text/x-python",
   "name": "python",
   "nbconvert_exporter": "python",
   "pygments_lexer": "ipython3",
   "version": "3.10.13"
  }
 },
 "nbformat": 4,
 "nbformat_minor": 5
}
